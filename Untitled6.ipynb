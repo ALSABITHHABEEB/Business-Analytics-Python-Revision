{
  "nbformat": 4,
  "nbformat_minor": 0,
  "metadata": {
    "colab": {
      "provenance": []
    },
    "kernelspec": {
      "name": "python3",
      "display_name": "Python 3"
    },
    "language_info": {
      "name": "python"
    }
  },
  "cells": [
    {
      "cell_type": "code",
      "execution_count": null,
      "metadata": {
        "id": "f_d8EAKDytoq"
      },
      "outputs": [],
      "source": [
        "z=[10,15,20,25,30,35,40]\n"
      ]
    },
    {
      "cell_type": "code",
      "source": [
        "z[0:5]"
      ],
      "metadata": {
        "colab": {
          "base_uri": "https://localhost:8080/"
        },
        "id": "IIDFL4SOzJT_",
        "outputId": "85f2adde-febb-44f6-b559-47438042df62"
      },
      "execution_count": null,
      "outputs": [
        {
          "output_type": "execute_result",
          "data": {
            "text/plain": [
              "[10, 15, 20, 25, 30]"
            ]
          },
          "metadata": {},
          "execution_count": 2
        }
      ]
    },
    {
      "cell_type": "code",
      "source": [
        "z[-3:]"
      ],
      "metadata": {
        "colab": {
          "base_uri": "https://localhost:8080/"
        },
        "id": "3-diO6wOzQVO",
        "outputId": "6cf399e1-4b56-4955-b3aa-69a88576cdf0"
      },
      "execution_count": null,
      "outputs": [
        {
          "output_type": "execute_result",
          "data": {
            "text/plain": [
              "[30, 35, 40]"
            ]
          },
          "metadata": {},
          "execution_count": 4
        }
      ]
    },
    {
      "cell_type": "code",
      "source": [
        "z[4:]\n"
      ],
      "metadata": {
        "colab": {
          "base_uri": "https://localhost:8080/"
        },
        "id": "nstdy8890LGX",
        "outputId": "d2246c4c-839f-47b2-bc0f-ce78fb36a319"
      },
      "execution_count": null,
      "outputs": [
        {
          "output_type": "execute_result",
          "data": {
            "text/plain": [
              "[30, 35, 40]"
            ]
          },
          "metadata": {},
          "execution_count": 7
        }
      ]
    },
    {
      "cell_type": "code",
      "source": [
        "x=[1,2,3,4,5,6,7,8,9,10]"
      ],
      "metadata": {
        "id": "yGySWwom0UyT"
      },
      "execution_count": null,
      "outputs": []
    },
    {
      "cell_type": "code",
      "source": [
        "x[0]=26000"
      ],
      "metadata": {
        "id": "7EIk2mLq07y4"
      },
      "execution_count": null,
      "outputs": []
    },
    {
      "cell_type": "code",
      "source": [
        "x"
      ],
      "metadata": {
        "colab": {
          "base_uri": "https://localhost:8080/"
        },
        "id": "6ExYTb1l1CA9",
        "outputId": "de5e9de4-b420-42bb-d8c8-e3bc32ac5093"
      },
      "execution_count": null,
      "outputs": [
        {
          "output_type": "execute_result",
          "data": {
            "text/plain": [
              "[26000, 2, 3, 4, 5, 6, 7, 8, 9, 10]"
            ]
          },
          "metadata": {},
          "execution_count": 10
        }
      ]
    },
    {
      "cell_type": "code",
      "source": [
        "x=[7,\"alsabith habeeb\",\"01-02-03\",19,\"india\"]"
      ],
      "metadata": {
        "id": "7fwapDa01IVl"
      },
      "execution_count": null,
      "outputs": []
    },
    {
      "cell_type": "code",
      "source": [
        "x[-1]=\"rajagiri\""
      ],
      "metadata": {
        "id": "lIKc__9F2Cmc"
      },
      "execution_count": null,
      "outputs": []
    },
    {
      "cell_type": "code",
      "source": [
        "print(x)"
      ],
      "metadata": {
        "colab": {
          "base_uri": "https://localhost:8080/"
        },
        "id": "xab47h2S2f9k",
        "outputId": "8e52c5a3-9f47-4d2c-d402-0982f3d52f2d"
      },
      "execution_count": null,
      "outputs": [
        {
          "output_type": "stream",
          "name": "stdout",
          "text": [
            "[7, 'alsabith habeeb', '01-02-03', 19, 'rajagiri']\n"
          ]
        }
      ]
    },
    {
      "cell_type": "code",
      "source": [
        "x=[3,6,9,12]\n",
        "x.append(69)"
      ],
      "metadata": {
        "id": "FQarXdTk2msi"
      },
      "execution_count": null,
      "outputs": []
    },
    {
      "cell_type": "code",
      "source": [
        "x"
      ],
      "metadata": {
        "colab": {
          "base_uri": "https://localhost:8080/"
        },
        "id": "-KULiK0A3d1k",
        "outputId": "5f652f61-d864-4659-81b4-fafd9b19eaf5"
      },
      "execution_count": null,
      "outputs": [
        {
          "output_type": "execute_result",
          "data": {
            "text/plain": [
              "[3, 6, 9, 12, 69]"
            ]
          },
          "metadata": {},
          "execution_count": 19
        }
      ]
    },
    {
      "cell_type": "code",
      "source": [
        "for n in range(4):\n",
        "  n= input(\"enter the name:\")\n",
        "  x.append(n)\n",
        "  print(x)"
      ],
      "metadata": {
        "colab": {
          "base_uri": "https://localhost:8080/"
        },
        "id": "KBYpxWYt3rAU",
        "outputId": "c1518ae6-4038-44f2-e37b-3f477d5dc69e"
      },
      "execution_count": 24,
      "outputs": [
        {
          "output_type": "stream",
          "name": "stdout",
          "text": [
            "enter the name:alsaith\n",
            "[3, 6, 9, 12, 69, ' ied tia', 'ibinu', 'shajil', 'ajay', 'shenshah', 'alsu', 'abith', 'hoo0qw3dfd', 'alsaith']\n",
            "enter the name:ibinu\n",
            "[3, 6, 9, 12, 69, ' ied tia', 'ibinu', 'shajil', 'ajay', 'shenshah', 'alsu', 'abith', 'hoo0qw3dfd', 'alsaith', 'ibinu']\n",
            "enter the name:tia\n",
            "[3, 6, 9, 12, 69, ' ied tia', 'ibinu', 'shajil', 'ajay', 'shenshah', 'alsu', 'abith', 'hoo0qw3dfd', 'alsaith', 'ibinu', 'tia']\n",
            "enter the name:holmes\n",
            "[3, 6, 9, 12, 69, ' ied tia', 'ibinu', 'shajil', 'ajay', 'shenshah', 'alsu', 'abith', 'hoo0qw3dfd', 'alsaith', 'ibinu', 'tia', 'holmes']\n"
          ]
        }
      ]
    },
    {
      "cell_type": "code",
      "source": [
        "x=[23,24,25,26]\n",
        "y=x.copy()\n",
        "print(y)"
      ],
      "metadata": {
        "id": "23ieMiZw5sfd",
        "colab": {
          "base_uri": "https://localhost:8080/"
        },
        "outputId": "0c0c842b-4d5b-4fb8-b929-bb138349a6a7"
      },
      "execution_count": 25,
      "outputs": [
        {
          "output_type": "stream",
          "name": "stdout",
          "text": [
            "[23, 24, 25, 26]\n"
          ]
        }
      ]
    },
    {
      "cell_type": "code",
      "source": [
        "x=[\"alsabith\",\"mary\",\"tia\",\"adam\"]\n",
        "y=['a','b','c']\n",
        "x.extend(y)\n",
        "print(x)"
      ],
      "metadata": {
        "colab": {
          "base_uri": "https://localhost:8080/"
        },
        "id": "lwR-Y6MB9hd9",
        "outputId": "a28389a5-c253-4b2d-a485-b8aecd77e842"
      },
      "execution_count": 28,
      "outputs": [
        {
          "output_type": "stream",
          "name": "stdout",
          "text": [
            "['alsabith', 'mary', 'tia', 'adam', 'a', 'b', 'c']\n"
          ]
        }
      ]
    },
    {
      "cell_type": "code",
      "source": [
        "x=['abc',2,2,2,3,4,5,6,]\n",
        "x.count(2)"
      ],
      "metadata": {
        "colab": {
          "base_uri": "https://localhost:8080/"
        },
        "id": "SfXNe1st-tmp",
        "outputId": "e7a375d4-00c6-4ab8-8d53-c65e6467c30e"
      },
      "execution_count": 29,
      "outputs": [
        {
          "output_type": "execute_result",
          "data": {
            "text/plain": [
              "3"
            ]
          },
          "metadata": {},
          "execution_count": 29
        }
      ]
    },
    {
      "cell_type": "code",
      "source": [
        "x[1:3]=[\"mathew\",\"james\"]"
      ],
      "metadata": {
        "id": "UDHaWCcr_VBT"
      },
      "execution_count": 30,
      "outputs": []
    },
    {
      "cell_type": "code",
      "source": [
        "print(x)"
      ],
      "metadata": {
        "colab": {
          "base_uri": "https://localhost:8080/"
        },
        "id": "Cv6i5sGgAbX3",
        "outputId": "9eb0137f-58a7-4da8-b95a-425484771b4d"
      },
      "execution_count": 31,
      "outputs": [
        {
          "output_type": "stream",
          "name": "stdout",
          "text": [
            "['abc', 'mathew', 'james', 2, 3, 4, 5, 6]\n"
          ]
        }
      ]
    },
    {
      "cell_type": "code",
      "source": [
        "x=[\"james\",\"alsabith\",\"tia\",\"sarasu\"]\n",
        "x.insert(3,\"maaman\")\n",
        "print(x)"
      ],
      "metadata": {
        "colab": {
          "base_uri": "https://localhost:8080/"
        },
        "id": "GIMdb659AeuV",
        "outputId": "03a17e5d-b41e-4f80-c305-6d389f219669"
      },
      "execution_count": 38,
      "outputs": [
        {
          "output_type": "stream",
          "name": "stdout",
          "text": [
            "['james', 'alsabith', 'tia', 'maaman', 'sarasu']\n"
          ]
        }
      ]
    },
    {
      "cell_type": "code",
      "source": [
        "x.remove(\"tia\")\n",
        "print(x)"
      ],
      "metadata": {
        "colab": {
          "base_uri": "https://localhost:8080/"
        },
        "id": "BK-_-MsOB8hb",
        "outputId": "54ff7899-3853-4e77-f981-b8c0bde9f9b7"
      },
      "execution_count": 39,
      "outputs": [
        {
          "output_type": "stream",
          "name": "stdout",
          "text": [
            "['james', 'alsabith', 'maaman', 'sarasu']\n"
          ]
        }
      ]
    },
    {
      "cell_type": "code",
      "source": [
        "x=[1,1,1,1,1,2,2,3,34,4,5,6,5,3,3,5,]\n",
        "del x[0]\n",
        "print(x)"
      ],
      "metadata": {
        "colab": {
          "base_uri": "https://localhost:8080/"
        },
        "id": "QrvLiZR0Cb-L",
        "outputId": "20829538-912c-4be5-f23a-41390484a8f2"
      },
      "execution_count": 40,
      "outputs": [
        {
          "output_type": "stream",
          "name": "stdout",
          "text": [
            "[1, 1, 1, 1, 2, 2, 3, 34, 4, 5, 6, 5, 3, 3, 5]\n"
          ]
        }
      ]
    },
    {
      "cell_type": "code",
      "source": [
        "del x[-1]\n",
        "print(x)"
      ],
      "metadata": {
        "colab": {
          "base_uri": "https://localhost:8080/"
        },
        "id": "xGu_GoSpDIFQ",
        "outputId": "5671c90d-2aef-4fc8-c9b3-fe2a80defba3"
      },
      "execution_count": 41,
      "outputs": [
        {
          "output_type": "stream",
          "name": "stdout",
          "text": [
            "[1, 1, 1, 1, 2, 2, 3, 34, 4, 5, 6, 5, 3, 3]\n"
          ]
        }
      ]
    },
    {
      "cell_type": "code",
      "source": [
        "del x[0:2]\n",
        "print(x)"
      ],
      "metadata": {
        "colab": {
          "base_uri": "https://localhost:8080/"
        },
        "id": "aM-Y40zvDM3H",
        "outputId": "8945f441-ecfd-45c5-e771-4e469fad9902"
      },
      "execution_count": 42,
      "outputs": [
        {
          "output_type": "stream",
          "name": "stdout",
          "text": [
            "[1, 1, 2, 2, 3, 34, 4, 5, 6, 5, 3, 3]\n"
          ]
        }
      ]
    }
  ]
}