{
  "nbformat": 4,
  "nbformat_minor": 0,
  "metadata": {
    "colab": {
      "provenance": [],
      "authorship_tag": "ABX9TyOTVqhU+Lj/TTvRcIQAOJ/w",
      "include_colab_link": true
    },
    "kernelspec": {
      "name": "python3",
      "display_name": "Python 3"
    },
    "language_info": {
      "name": "python"
    }
  },
  "cells": [
    {
      "cell_type": "markdown",
      "metadata": {
        "id": "view-in-github",
        "colab_type": "text"
      },
      "source": [
        "<a href=\"https://colab.research.google.com/github/ALSABITHHABEEB/Business-Analytics-Python-Revision/blob/main/Untitled8.ipynb\" target=\"_parent\"><img src=\"https://colab.research.google.com/assets/colab-badge.svg\" alt=\"Open In Colab\"/></a>"
      ]
    },
    {
      "cell_type": "code",
      "execution_count": 5,
      "metadata": {
        "colab": {
          "base_uri": "https://localhost:8080/"
        },
        "id": "HuPZ3WVTwmmL",
        "outputId": "679d8ab6-0bc7-43fc-a39a-cd8b1448286c"
      },
      "outputs": [
        {
          "output_type": "stream",
          "name": "stdout",
          "text": [
            "this is \"Python\" programming\n"
          ]
        }
      ],
      "source": [
        "x=\"this is \\\"Python\\\" programming\"\n",
        "print(x)"
      ]
    },
    {
      "cell_type": "code",
      "source": [
        "x='he\\'s a doctor'\n",
        "print(x)"
      ],
      "metadata": {
        "colab": {
          "base_uri": "https://localhost:8080/"
        },
        "id": "G31YZnDyxpcF",
        "outputId": "8410e6f8-4791-4173-d67d-026ba9b9483f"
      },
      "execution_count": 3,
      "outputs": [
        {
          "output_type": "stream",
          "name": "stdout",
          "text": [
            "he's a doctor\n"
          ]
        }
      ]
    },
    {
      "cell_type": "code",
      "source": [
        "x='hello\\nworld'\n",
        "print(x)"
      ],
      "metadata": {
        "colab": {
          "base_uri": "https://localhost:8080/"
        },
        "id": "lIqNUDHtx_gZ",
        "outputId": "676026c3-222a-4f5e-990a-129323f1c0bf"
      },
      "execution_count": 6,
      "outputs": [
        {
          "output_type": "stream",
          "name": "stdout",
          "text": [
            "hello\n",
            "world\n"
          ]
        }
      ]
    },
    {
      "cell_type": "code",
      "source": [
        "x='hello\\tworld'\n",
        "print(x)"
      ],
      "metadata": {
        "colab": {
          "base_uri": "https://localhost:8080/"
        },
        "id": "ccBlCGVQyVVv",
        "outputId": "c5f46198-917e-4a62-cacc-98226ea96d12"
      },
      "execution_count": 7,
      "outputs": [
        {
          "output_type": "stream",
          "name": "stdout",
          "text": [
            "hello\tworld\n"
          ]
        }
      ]
    },
    {
      "cell_type": "code",
      "source": [
        "x=(\"\\\"alsabith\\\" habeeb\")\n",
        "print(x)"
      ],
      "metadata": {
        "colab": {
          "base_uri": "https://localhost:8080/"
        },
        "id": "THAMSgKkyfMW",
        "outputId": "670de49c-816b-4b97-d768-048191ab50ad"
      },
      "execution_count": 9,
      "outputs": [
        {
          "output_type": "stream",
          "name": "stdout",
          "text": [
            "\"alsabith\" habeeb\n"
          ]
        }
      ]
    },
    {
      "cell_type": "code",
      "source": [
        "print('he\\n doctor')"
      ],
      "metadata": {
        "colab": {
          "base_uri": "https://localhost:8080/"
        },
        "id": "hk3QtgX0z9Rm",
        "outputId": "39b7fb69-72b0-403b-e22f-6c747e43c901"
      },
      "execution_count": 10,
      "outputs": [
        {
          "output_type": "stream",
          "name": "stdout",
          "text": [
            "he\n",
            " doctor\n"
          ]
        }
      ]
    },
    {
      "cell_type": "code",
      "source": [
        "print('alsabith\\n habeeb')"
      ],
      "metadata": {
        "colab": {
          "base_uri": "https://localhost:8080/"
        },
        "id": "YXjZ8Eqx1Ozm",
        "outputId": "6a7168b8-959a-458f-dfb7-c085da494266"
      },
      "execution_count": 14,
      "outputs": [
        {
          "output_type": "stream",
          "name": "stdout",
          "text": [
            "alsabith\n",
            " habeeb\n"
          ]
        }
      ]
    },
    {
      "cell_type": "code",
      "source": [
        "x=[\"john\",\"mary\",\"david\",\"adam\"]\n",
        "x.insert(2,\"james\")\n",
        "print(x)"
      ],
      "metadata": {
        "colab": {
          "base_uri": "https://localhost:8080/"
        },
        "id": "uadSEWX41TBI",
        "outputId": "0761699b-c9dc-4c9a-c7a5-6fa3888abb54"
      },
      "execution_count": 17,
      "outputs": [
        {
          "output_type": "stream",
          "name": "stdout",
          "text": [
            "['john', 'mary', 'james', 'david', 'adam']\n"
          ]
        }
      ]
    },
    {
      "cell_type": "code",
      "source": [
        "x=[\"john\",\"mary\",\"david\",\"adam\"]\n",
        "x[2:4]=[\"mathew\",\"james\"]\n",
        "print(x)"
      ],
      "metadata": {
        "colab": {
          "base_uri": "https://localhost:8080/"
        },
        "id": "PdIjcOEr2Cy5",
        "outputId": "98787129-2418-4093-d3e0-a4fe5def2370"
      },
      "execution_count": 18,
      "outputs": [
        {
          "output_type": "stream",
          "name": "stdout",
          "text": [
            "['john', 'mary', 'mathew', 'james']\n"
          ]
        }
      ]
    },
    {
      "cell_type": "code",
      "source": [
        "x=[\"A\",\"B\",\"C\",\"K\"]\n",
        "y=int(input(\"enter index\"))\n",
        "n=input(\"enter a name\")\n",
        "x.insert(y,n)\n",
        "print(x)"
      ],
      "metadata": {
        "colab": {
          "base_uri": "https://localhost:8080/"
        },
        "id": "jxrf16R93m7S",
        "outputId": "ddc3b305-3fda-4f56-8e36-1031f1394f34"
      },
      "execution_count": 23,
      "outputs": [
        {
          "output_type": "stream",
          "name": "stdout",
          "text": [
            "enter index2\n",
            "enter a namef\n",
            "['A', 'B', 'f', 'C', 'K']\n"
          ]
        }
      ]
    },
    {
      "cell_type": "code",
      "source": [
        "def tia():\n",
        "  y=int(input(\"enter index\"))\n",
        "  n=input(\"enter a name\")\n",
        "  x.insert(y,n)\n",
        "  print(x)"
      ],
      "metadata": {
        "id": "Q9vrvVa87yuY"
      },
      "execution_count": 25,
      "outputs": []
    },
    {
      "cell_type": "code",
      "source": [
        "tia()"
      ],
      "metadata": {
        "colab": {
          "base_uri": "https://localhost:8080/"
        },
        "id": "9TZy_1Uv-XHI",
        "outputId": "50d56a4d-9d56-4e09-a384-4851d337eb95"
      },
      "execution_count": 26,
      "outputs": [
        {
          "output_type": "stream",
          "name": "stdout",
          "text": [
            "enter index2\n",
            "enter a namealsabith\n",
            "['A', 'B', 'alsabith', 'f', 'C', 'K']\n"
          ]
        }
      ]
    },
    {
      "cell_type": "code",
      "source": [
        "def nig():\n",
        "  x=int(input(\"enter number\"))\n",
        "  y=int(input(\"enter 2nd number\"))\n",
        "  z=x+y\n",
        "  g=x-y\n",
        "  j=x*y\n",
        "  k=x/y\n",
        "  print(z)\n",
        "  print(g)\n",
        "  print(j)\n",
        "  print(k)\n"
      ],
      "metadata": {
        "id": "Dm_QuGO9-f9h"
      },
      "execution_count": 27,
      "outputs": []
    },
    {
      "cell_type": "code",
      "source": [
        "nig()"
      ],
      "metadata": {
        "colab": {
          "base_uri": "https://localhost:8080/"
        },
        "id": "Ins7suBhCC37",
        "outputId": "04d888f9-e77f-4412-f55f-aabec791460f"
      },
      "execution_count": 28,
      "outputs": [
        {
          "output_type": "stream",
          "name": "stdout",
          "text": [
            "enter number7\n",
            "enter 2nd number4\n",
            "11\n",
            "3\n",
            "28\n",
            "1.75\n"
          ]
        }
      ]
    },
    {
      "cell_type": "code",
      "source": [
        "def nig(a,b):\n",
        "  print(a+b)\n"
      ],
      "metadata": {
        "id": "TJQp4SfYCFoi"
      },
      "execution_count": 29,
      "outputs": []
    },
    {
      "cell_type": "code",
      "source": [
        "  x=int(input(\"enter number\"))\n",
        "  y=int(input(\"enter 2nd number\"))\n",
        "  nig(x,y)"
      ],
      "metadata": {
        "colab": {
          "base_uri": "https://localhost:8080/"
        },
        "id": "9NptmlfCEc0Q",
        "outputId": "730746e9-6982-49a4-997e-cc141e2d04f2"
      },
      "execution_count": 30,
      "outputs": [
        {
          "output_type": "stream",
          "name": "stdout",
          "text": [
            "enter number5\n",
            "enter 2nd number4\n",
            "9\n"
          ]
        }
      ]
    },
    {
      "cell_type": "code",
      "source": [
        "def add(a,b): \n",
        "  print(a+b)\n",
        "def subtract(a,b):\n",
        "  print(a-b)\n",
        "def multiply(a,b):\n",
        "  print(a*b)\n",
        "def divide(a,b):\n",
        "  print(a/b)\n",
        "    \n",
        "\n"
      ],
      "metadata": {
        "id": "74_XUNEjElaU"
      },
      "execution_count": 31,
      "outputs": []
    },
    {
      "cell_type": "code",
      "source": [],
      "metadata": {
        "id": "OML682PPHfY-"
      },
      "execution_count": null,
      "outputs": []
    }
  ]
}